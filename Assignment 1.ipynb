{
 "cells": [
  {
   "cell_type": "code",
   "execution_count": 29,
   "id": "41e33b97-2547-4345-a562-dd6ce0f340ed",
   "metadata": {},
   "outputs": [],
   "source": [
    "#Answere 1"
   ]
  },
  {
   "cell_type": "code",
   "execution_count": 2,
   "id": "af4ccedf-505a-48ca-b793-b505e96c31b2",
   "metadata": {},
   "outputs": [],
   "source": [
    "A = [\"Ayush\",[1,3],23.345,(5,8)]"
   ]
  },
  {
   "cell_type": "code",
   "execution_count": 30,
   "id": "78d8f9ca-64ef-49d3-91c8-fc2fa3972064",
   "metadata": {},
   "outputs": [],
   "source": [
    "#Answere 2"
   ]
  },
  {
   "cell_type": "code",
   "execution_count": 16,
   "id": "6af67f3e-3535-4720-ba7d-4fce16e21a1d",
   "metadata": {},
   "outputs": [],
   "source": [
    "#(i)"
   ]
  },
  {
   "cell_type": "code",
   "execution_count": 1,
   "id": "f15a9bd3-75cd-45a0-a437-f5665d55e627",
   "metadata": {},
   "outputs": [],
   "source": [
    "var1 = ''"
   ]
  },
  {
   "cell_type": "code",
   "execution_count": 2,
   "id": "9fff0cd8-c6f2-4843-8987-29c1707d8917",
   "metadata": {},
   "outputs": [
    {
     "data": {
      "text/plain": [
       "str"
      ]
     },
     "execution_count": 2,
     "metadata": {},
     "output_type": "execute_result"
    }
   ],
   "source": [
    "type(var1)"
   ]
  },
  {
   "cell_type": "code",
   "execution_count": 19,
   "id": "effad09c-eed4-43ef-bda3-11cc11fba6dc",
   "metadata": {},
   "outputs": [],
   "source": [
    "#(ii)"
   ]
  },
  {
   "cell_type": "code",
   "execution_count": 3,
   "id": "61d057cd-450f-4743-a5a8-3c102adc3306",
   "metadata": {},
   "outputs": [],
   "source": [
    "var2 = '[DS,ML,Python]'"
   ]
  },
  {
   "cell_type": "code",
   "execution_count": 4,
   "id": "f8f98948-cc87-4cd3-b4c2-c2aa34e0dc07",
   "metadata": {},
   "outputs": [
    {
     "data": {
      "text/plain": [
       "str"
      ]
     },
     "execution_count": 4,
     "metadata": {},
     "output_type": "execute_result"
    }
   ],
   "source": [
    "type(var2)"
   ]
  },
  {
   "cell_type": "code",
   "execution_count": 18,
   "id": "34212a68-26a5-44aa-bb52-aba2e6892519",
   "metadata": {},
   "outputs": [],
   "source": [
    "#(iii)"
   ]
  },
  {
   "cell_type": "code",
   "execution_count": 5,
   "id": "0b263dca-c3c1-418c-8e04-138db6aa94cd",
   "metadata": {},
   "outputs": [],
   "source": [
    "var3 = ['DS','ML','Python']"
   ]
  },
  {
   "cell_type": "code",
   "execution_count": 6,
   "id": "de9bfbab-d2aa-43f9-a7e2-3a111a314157",
   "metadata": {},
   "outputs": [
    {
     "data": {
      "text/plain": [
       "list"
      ]
     },
     "execution_count": 6,
     "metadata": {},
     "output_type": "execute_result"
    }
   ],
   "source": [
    "type(var3)"
   ]
  },
  {
   "cell_type": "code",
   "execution_count": 20,
   "id": "60999f16-ddac-4753-99ee-31240c4da65e",
   "metadata": {},
   "outputs": [],
   "source": [
    "#(iv)"
   ]
  },
  {
   "cell_type": "code",
   "execution_count": 7,
   "id": "90b4ddf0-79c5-4b21-9c3c-af2b3a78dc77",
   "metadata": {},
   "outputs": [],
   "source": [
    "var4 = 1"
   ]
  },
  {
   "cell_type": "code",
   "execution_count": 8,
   "id": "ba805432-4e0c-438f-91d3-24102af036d0",
   "metadata": {},
   "outputs": [
    {
     "data": {
      "text/plain": [
       "int"
      ]
     },
     "execution_count": 8,
     "metadata": {},
     "output_type": "execute_result"
    }
   ],
   "source": [
    "type(var4)"
   ]
  },
  {
   "cell_type": "code",
   "execution_count": 31,
   "id": "808d7220-9281-4ada-b3b8-f701e7478cb4",
   "metadata": {},
   "outputs": [],
   "source": [
    "#Answere 3"
   ]
  },
  {
   "cell_type": "code",
   "execution_count": 21,
   "id": "d6840579-9dae-4be9-868a-00b3187e50f2",
   "metadata": {},
   "outputs": [],
   "source": [
    "#(i)"
   ]
  },
  {
   "cell_type": "code",
   "execution_count": 9,
   "id": "b6dd6257-2e30-4506-8d4f-6dc0d6b2fdc2",
   "metadata": {},
   "outputs": [
    {
     "data": {
      "text/plain": [
       "2.0"
      ]
     },
     "execution_count": 9,
     "metadata": {},
     "output_type": "execute_result"
    }
   ],
   "source": [
    "10/5"
   ]
  },
  {
   "cell_type": "code",
   "execution_count": 22,
   "id": "d7bda593-1d42-4523-bf7c-d54b35bb77f5",
   "metadata": {},
   "outputs": [],
   "source": [
    "#(ii)"
   ]
  },
  {
   "cell_type": "code",
   "execution_count": 11,
   "id": "53581592-bc9b-43f0-b168-b188aea59db8",
   "metadata": {},
   "outputs": [
    {
     "data": {
      "text/plain": [
       "3"
      ]
     },
     "execution_count": 11,
     "metadata": {},
     "output_type": "execute_result"
    }
   ],
   "source": [
    "42%13"
   ]
  },
  {
   "cell_type": "code",
   "execution_count": 15,
   "id": "d7e8fb2d-a8d0-4489-a822-578d95d99523",
   "metadata": {},
   "outputs": [],
   "source": [
    "# here \"3\" explains remainder that will come when we divide 42 by 13"
   ]
  },
  {
   "cell_type": "code",
   "execution_count": 23,
   "id": "cc1ef67e-59dc-42fd-ba34-c4b8a6825939",
   "metadata": {},
   "outputs": [],
   "source": [
    "#(iii)"
   ]
  },
  {
   "cell_type": "code",
   "execution_count": 24,
   "id": "d26161f7-1c6f-40ae-abd6-632cd293ad48",
   "metadata": {},
   "outputs": [
    {
     "data": {
      "text/plain": [
       "7"
      ]
     },
     "execution_count": 24,
     "metadata": {},
     "output_type": "execute_result"
    }
   ],
   "source": [
    "15//2"
   ]
  },
  {
   "cell_type": "code",
   "execution_count": 25,
   "id": "1eeba106-3c59-4a38-90bc-5e700a275b0b",
   "metadata": {},
   "outputs": [],
   "source": [
    "#here \"//\" denotes to devide 1st with 2nd and round it to nearest int."
   ]
  },
  {
   "cell_type": "code",
   "execution_count": 26,
   "id": "41e4ce92-78df-4f5c-9c56-bcb08e921f3a",
   "metadata": {},
   "outputs": [],
   "source": [
    "#(iv)"
   ]
  },
  {
   "cell_type": "code",
   "execution_count": 27,
   "id": "d8b8ed82-19e8-4e3d-b7f1-35b8346f8f9d",
   "metadata": {},
   "outputs": [
    {
     "data": {
      "text/plain": [
       "9"
      ]
     },
     "execution_count": 27,
     "metadata": {},
     "output_type": "execute_result"
    }
   ],
   "source": [
    "3**2"
   ]
  },
  {
   "cell_type": "code",
   "execution_count": 28,
   "id": "2f009a0f-7511-47d6-bfa7-70f8d3891ec2",
   "metadata": {},
   "outputs": [],
   "source": [
    "# \"**\" denotes power"
   ]
  },
  {
   "cell_type": "code",
   "execution_count": 32,
   "id": "41c1862c-6d16-4479-a3a6-5c2f828dc26b",
   "metadata": {},
   "outputs": [],
   "source": [
    "#Answere 4"
   ]
  },
  {
   "cell_type": "code",
   "execution_count": 4,
   "id": "94a65fa4-b0f0-4725-803c-3b0cf8ad14cd",
   "metadata": {},
   "outputs": [
    {
     "name": "stdout",
     "output_type": "stream",
     "text": [
      "1\n",
      "34.5\n",
      "True\n",
      "Thankyou PW\n",
      "30\n",
      "(1, 3)\n",
      "24\n",
      "False\n",
      "[6, 8]\n",
      "range(1, 4)\n"
     ]
    }
   ],
   "source": [
    "W = [ 1,34.5,True,\"Thankyou PW\",30,(1,3),24,False,[6,8],range(1,4) ]\n",
    "for t in W:\n",
    "    print(t)"
   ]
  },
  {
   "cell_type": "code",
   "execution_count": 3,
   "id": "e5bd420b-e2e9-4254-875e-315ef09ec9a0",
   "metadata": {},
   "outputs": [
    {
     "name": "stdout",
     "output_type": "stream",
     "text": [
      "<class 'int'>\n",
      "<class 'float'>\n",
      "<class 'bool'>\n",
      "<class 'str'>\n",
      "<class 'int'>\n",
      "<class 'tuple'>\n",
      "<class 'int'>\n",
      "<class 'bool'>\n",
      "<class 'list'>\n",
      "<class 'range'>\n"
     ]
    }
   ],
   "source": [
    "W = [ 1,34.5,True,\"Thankyou PW\",30,(1,3),24,False,[6,8],range(1,4) ]\n",
    "for t in W:\n",
    "    print(type(t))"
   ]
  },
  {
   "cell_type": "code",
   "execution_count": 1,
   "id": "4a2b72cd-cb90-4963-9333-f26342d7b411",
   "metadata": {},
   "outputs": [],
   "source": [
    "#Answere 5"
   ]
  },
  {
   "cell_type": "code",
   "execution_count": null,
   "id": "f17f3b43-5968-4103-9837-20468d7440ed",
   "metadata": {},
   "outputs": [
    {
     "name": "stdin",
     "output_type": "stream",
     "text": [
      "Enter value of A 2197\n"
     ]
    }
   ],
   "source": [
    "A = int(input(\"Enter value of A\"))\n",
    "B = int(input(\"Enter value of B\"))\n",
    "count = 0\n",
    "\n",
    "while A % B == 0:\n",
    "    count += 1\n",
    "    A = A / B\n",
    "    \n",
    "if count > 0:\n",
    "    print(\"A is divisible by B\",count,\"times\")\n",
    "else:\n",
    "    print(\"A is not divisible by B\")"
   ]
  },
  {
   "cell_type": "code",
   "execution_count": 2,
   "id": "3ae38d80-2427-40ec-afc2-9c8cbc778df6",
   "metadata": {},
   "outputs": [],
   "source": [
    "#Answere 6"
   ]
  },
  {
   "cell_type": "code",
   "execution_count": 6,
   "id": "b4c9333e-a58b-446a-8354-cea0d6c315b4",
   "metadata": {},
   "outputs": [
    {
     "name": "stdout",
     "output_type": "stream",
     "text": [
      "21 is divisble by 3\n",
      "24 is divisble by 3\n",
      "62 is not divisble\n",
      "45 is divisble by 3\n",
      "39 is divisble by 3\n",
      "23 is not divisble\n",
      "98 is not divisble\n",
      "96 is divisble by 3\n",
      "56 is not divisble\n",
      "52 is not divisble\n",
      "134 is not divisble\n",
      "126 is divisble by 3\n",
      "66 is divisble by 3\n",
      "513 is divisble by 3\n",
      "91 is not divisble\n",
      "34 is not divisble\n",
      "289 is not divisble\n",
      "654 is divisble by 3\n",
      "693 is divisble by 3\n",
      "654 is divisble by 3\n",
      "245 is not divisble\n",
      "249 is divisble by 3\n",
      "863 is not divisble\n",
      "993 is divisble by 3\n",
      "567 is divisble by 3\n",
      "308 is not divisble\n"
     ]
    }
   ],
   "source": [
    "Q = [21,24,62,45,39,23,98,96,56,52,134,126,66,513,91,34,289,654,693,654,245,249,863,993,567,308]\n",
    "for i in Q:\n",
    "    if i % 3 ==0:\n",
    "        print(i,\"is divisble by 3\")\n",
    "    else:\n",
    "        print(i,\"is not divisble\")"
   ]
  },
  {
   "cell_type": "code",
   "execution_count": 8,
   "id": "4b2cf709-ca55-4461-9897-3906728d4d8b",
   "metadata": {},
   "outputs": [],
   "source": [
    "#Answere 7"
   ]
  },
  {
   "cell_type": "code",
   "execution_count": 11,
   "id": "f87290d7-7fcc-40f6-86c9-762baf886b66",
   "metadata": {},
   "outputs": [],
   "source": [
    "#Mutable data are those data which can be modified.\n",
    "#e.g list\n",
    "#W = [ 1,2 3,\"brother\",34.5,True]"
   ]
  },
  {
   "cell_type": "code",
   "execution_count": 12,
   "id": "08859ecc-a08d-472f-bc2f-471dddfe4755",
   "metadata": {},
   "outputs": [],
   "source": [
    "#Immutable data are those datas which can not be modified once executed ,it can only suprimpose another value on that variable.\n",
    "#e.g. tuple, string\n",
    "# R=(1,2,3,\"brother\",34.5,True)"
   ]
  },
  {
   "cell_type": "code",
   "execution_count": null,
   "id": "d96a6ede-1e73-48ed-b3aa-5a541c953644",
   "metadata": {},
   "outputs": [],
   "source": []
  }
 ],
 "metadata": {
  "kernelspec": {
   "display_name": "Python 3 (ipykernel)",
   "language": "python",
   "name": "python3"
  },
  "language_info": {
   "codemirror_mode": {
    "name": "ipython",
    "version": 3
   },
   "file_extension": ".py",
   "mimetype": "text/x-python",
   "name": "python",
   "nbconvert_exporter": "python",
   "pygments_lexer": "ipython3",
   "version": "3.10.8"
  }
 },
 "nbformat": 4,
 "nbformat_minor": 5
}
